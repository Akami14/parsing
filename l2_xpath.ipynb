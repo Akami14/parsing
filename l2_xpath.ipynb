{
 "cells": [
  {
   "cell_type": "markdown",
   "id": "1e1316ec",
   "metadata": {},
   "source": [
    "# 1\n",
    "Написать прилож или функцию которые собирают новости с сайта использую Xpath"
   ]
  },
  {
   "cell_type": "code",
   "execution_count": 2,
   "id": "f0abcafe",
   "metadata": {
    "scrolled": true
   },
   "outputs": [],
   "source": [
    "from lxml import html\n",
    "import json\n",
    "import requests\n",
    "import pprint"
   ]
  },
  {
   "cell_type": "code",
   "execution_count": 3,
   "id": "a497408d",
   "metadata": {},
   "outputs": [
    {
     "data": {
      "text/plain": [
       "True"
      ]
     },
     "execution_count": 3,
     "metadata": {},
     "output_type": "execute_result"
    }
   ],
   "source": [
    "url = 'https://lenta.ru/'\n",
    "headers = {\n",
    "    'User-Agent': \n",
    "    'Mozilla/5.0 (Windows NT 10.0; Win64; x64) AppleWebKit/537.36 (KHTML, like Gecko) Chrome/109.0.0.0 Safari/537.36'\n",
    "          }\n",
    "response = requests.get(url, headers=headers)\n",
    "response.ok"
   ]
  },
  {
   "cell_type": "code",
   "execution_count": 92,
   "id": "adf4a19b",
   "metadata": {
    "scrolled": true
   },
   "outputs": [
    {
     "data": {
      "text/plain": [
       "(138, 140)"
      ]
     },
     "execution_count": 92,
     "metadata": {},
     "output_type": "execute_result"
    }
   ],
   "source": [
    "dom = html.fromstring(response.text)\n",
    "news = dom.xpath('//div')\n",
    "headline = dom.xpath('//a/div[contains(@class, \"card\")]/span/text()')\n",
    "#[contains(@class, 'card')]\n",
    "link = dom.xpath('//div/a[contains(@class, \"card\")]/@href')\n",
    "len(headline), len(link)"
   ]
  },
  {
   "cell_type": "code",
   "execution_count": 113,
   "id": "0c48c240",
   "metadata": {},
   "outputs": [],
   "source": [
    "import re\n",
    "pattern = 'http'\n",
    "regex = re.compile(pattern) "
   ]
  },
  {
   "cell_type": "code",
   "execution_count": 125,
   "id": "6a74385c",
   "metadata": {},
   "outputs": [],
   "source": [
    "news_json = dict(zip(headline, link))\n",
    "for k, v in news_json.items():\n",
    "    if not regex.search(v):\n",
    "        v = url+v\n",
    "    news_json[k]=v\n",
    "\n"
   ]
  },
  {
   "cell_type": "code",
   "execution_count": 126,
   "id": "10def7e5",
   "metadata": {},
   "outputs": [
    {
     "data": {
      "text/plain": [
       "{'В Госдуме ответили на слухи о второй волне мобилизации в России': 'https://lenta.ru//news/2023/02/13/odessakharkov/',\n",
       " 'Стало известно о взрывах в Херсоне': 'https://lenta.ru//news/2023/02/13/mobilisation/',\n",
       " 'В США испытали беспилотники воздушного базирования': 'https://lenta.ru//news/2023/02/13/kherson_expl/',\n",
       " 'В Турции шестилетнюю девочку спасли спустя 178 часов после землетрясения': 'https://lenta.ru//news/2023/02/13/ale/',\n",
       " 'Германия начала обучать ВСУ управлению танками Leopard 2': 'https://lenta.ru//news/2023/02/13/turkey_miracle/',\n",
       " 'Школьник покончил с собой в Подмосковье': 'https://lenta.ru//news/2023/02/13/93858/',\n",
       " 'Появились кадры с попавшей под обстрел школой в приграничном российском регионе': 'https://moslenta.ru/news/city/pokonchil-s-soboi-13-02-2023.htm/',\n",
       " 'Дружественные страны раскритиковали планы России по онлайн-продаже вина': 'https://lenta.ru//news/2023/02/13/obstrelkrasnoe/',\n",
       " 'Стало известно о продаже Дудем дома в Новой Москве': 'https://lenta.ru//news/2023/02/13/eas/',\n",
       " 'Украинский экс-замминистра здравоохранения попал под следствие': 'https://lenta.ru//news/2023/02/13/dud_dom/',\n",
       " 'Российского учителя физкультуры осудят за смерть школьницы в бассейне': 'https://lenta.ru//news/2023/02/13/zdravoohr/',\n",
       " 'Блогерша покопалась в мусоре из универмага и удивилась ценным находкам': 'https://lenta.ru//news/2023/02/13/smertshk/',\n",
       " ' Пережившие алкоголизм россиянки — о самых страшных последствиях зависимости': 'https://lenta.ru//news/2023/02/13/designer-bags/',\n",
       " ' Как им это удается?': 'https://lenta.ru//articles/2023/02/13/alcoholic/',\n",
       " 'Россиянка возложила цветы к памятнику и получила штраф за дискредитацию армии': 'https://lenta.ru//articles/2023/02/13/nalogi/',\n",
       " 'Москалькова обратилась к главе Генштаба после жалоб российских мобилизованных': 'https://lenta.ru//news/2023/02/13/discred/',\n",
       " 'Девушка легионера клуба РПЛ обвинила его в избиении': 'https://lenta.ru//news/2023/02/13/zhalobi/',\n",
       " 'СБУ заподозрила волонтера Красного Креста в сотрудничестве с Россией': 'https://lenta.ru//news/2023/02/13/noboa2/',\n",
       " 'ВСУ обстреляли школу в приграничном российском регионе': 'https://lenta.ru//news/2023/02/13/mkkk_sbu/',\n",
       " 'На Украине возбудили дело против мэра Мариуполя': 'https://lenta.ru//news/2023/02/13/sjkola/',\n",
       " ' Как это сделало невыносимой жизнь невиновных людей?': 'https://lenta.ru//news/2023/02/13/ua_mariupol/',\n",
       " 'Стало известно еще об одной казни бойца ЧВК «Вагнер» на Украине': 'https://lenta.ru//articles/2023/02/13/idahomurders/',\n",
       " 'В ЕС раскрыли подробности нового пакета антироссийских санкций': 'https://lenta.ru//news/2023/02/13/chvk/',\n",
       " 'СВР узнала о планах США привлечь боевиков ИГ для терактов в России': 'https://lenta.ru//news/2023/02/13/sanctions/',\n",
       " 'В России произошло новое землетрясение': 'https://lenta.ru//news/2023/02/13/svrrrr/',\n",
       " 'Кадыров заявил о попытке отравления командира «Ахмата»': 'https://lenta.ru//news/2023/02/13/kurill/',\n",
       " 'МИД Украины пообещал «великие события» в годовщину начала спецоперации': 'https://lenta.ru//news/2023/02/13/kadirov/',\n",
       " ' Страшные кадры катастрофы, унесшей тысячи человеческих жизней': 'https://lenta.ru//news/2023/02/13/great/',\n",
       " ' Почему США взялись за борьбу с коррупцией на Украине и чем это грозит Владимиру Зеленскому?': 'https://lenta.ru//articles/2023/02/06/turkeyearthquake/',\n",
       " ' Почему IT-гиганты увольняют тысячи сотрудников по всему миру?': 'https://lenta.ru//articles/2023/02/07/corruption_reznikov/',\n",
       " ' Как жестокая банда охотилась на криминальных авторитетов и держала в страхе сибирский город': 'https://motor.ru/news/mg-roadster-leaked-13-02-2023.htm',\n",
       " ' Сексуальное насилие, угрозы и шантаж: как в России люди попадают в рабство?': 'https://lenta.ru//news/2023/02/13/roman/',\n",
       " ' Памела Андерсон прервала молчание и рассказала о травмах': 'https://lenta.ru//articles/2023/02/09/slavery/',\n",
       " ' Как секс-секта раскрыла тайну женского оргазма и заработала на этом миллионы долларов ': 'https://lenta.ru//articles/2023/02/05/pam/',\n",
       " ' Серийный убийца из Татарстана задушил десятки женщин. Почему его не могли поймать восемь лет?': 'https://lenta.ru//articles/2023/02/07/onetaste/',\n",
       " ' Федор Емельяненко проиграл в прощальном бою. Американец нокаутировал легенду в первом раунде': 'https://lenta.ru//articles/2023/02/06/maniac/',\n",
       " ' Какие слабые места есть у Abrams, Challenger и Leopard?': 'https://lenta.ru//news/2023/02/13/ne_uspel/',\n",
       " ' В США судят доминатрикс из России. Она ненавидела мужчин и травила людей ради ограбления': 'https://lenta.ru//articles/2023/02/09/tanks/',\n",
       " 'Австрия отказалась обучать ВСУ управлению танками Leopard 2': 'https://lenta.ru//articles/2023/02/11/nasyrova/',\n",
       " 'Отбывающий срок за педофилию мигрант пропагандировал ИГ из российской колонии': 'https://lenta.ru//news/2023/02/13/222/',\n",
       " 'Стало известно о влиянии санкций на сроки ремонта российских самолетов': 'https://lenta.ru//news/2023/02/13/migrantt/',\n",
       " 'Появилось видео с места гибели растерзанного тигром россиянина': 'https://lenta.ru//news/2023/02/13/rossavia/',\n",
       " 'Биткоину предсказали рост до 500 тысяч долларов': 'https://lenta.ru//news/2023/02/13/tigr/',\n",
       " 'Yota подарит 14 февраля безлимитный доступ к популярным сервисам знакомств': 'https://lenta.ru//news/2023/02/13/bitrost/',\n",
       " ' Махачев защитил титул чемпиона и стал лучшим бойцом UFC. Как он победил Волкановски?': 'https://lenta.ru//news/2023/02/13/acquaintance/',\n",
       " 'Рост одной технологичной отрасли в России резко замедлился': 'https://lenta.ru//articles/2023/02/12/islam_champ/',\n",
       " ' Можно ли избежать таких катастроф в будущем?': 'https://lenta.ru//news/2023/02/13/edtechmarket/',\n",
       " 'В России запустили систему поиска запрещенной информации в интернете': 'https://lenta.ru//articles/2023/02/12/shake/',\n",
       " 'Эксперты обсудили влияние колониальной политики на современный мир': 'https://lenta.ru//news/2023/02/13/oculus/',\n",
       " 'Уборщица устроила массовую драку на свадьбе в Подмосковье': 'https://lenta.ru//news/2023/02/13/kolonp/',\n",
       " ' Как сын советского офицера в 1990-е стал главным криминальным авторитетом Киева': 'https://lenta.ru//news/2023/02/13/uborka/',\n",
       " 'Стоимость газа в Европе упала': 'https://lenta.ru//articles/2023/02/11/banda/',\n",
       " 'Экс-глава Пентагона заявил о медлительности США в поставках вооружения Украине': 'https://lenta.ru//news/2023/02/13/padaet/',\n",
       " ' Актер Арми Хаммер наконец прервал молчание и прокомментировал обвинения в свой адрес': 'https://lenta.ru//news/2023/02/13/patriot_esper/',\n",
       " 'Глава Англиканской церкви предрек церковный раскол из-за однополых браков': 'https://lenta.ru//articles/2023/02/12/armie/',\n",
       " 'Россиянам дали рекомендации по покупке заброшенной дачи': 'https://lenta.ru//news/2023/02/13/raskol/',\n",
       " 'Появился первый обзор шлема виртуальной реальности PS VR2': 'https://lenta.ru//news/2023/02/13/zabr_dacha/',\n",
       " 'Блейк Лайвли родила четвертого ребенка': 'https://lenta.ru//news/2023/02/13/psvr2/',\n",
       " 'Сейсмолог оценил вероятность землетрясения в Москве': 'https://lenta.ru//news/2023/02/13/blake_child/',\n",
       " ' Как средневековая домохозяйка управляла мужем и миром': 'https://moslenta.ru/news/lyudi/veroyatnost-zemletryaseniya-13-02-2023.htm/',\n",
       " 'Невестку бывшего губернатора решили заставить вернуть мужу эксклюзивный Mercedes': 'https://lenta.ru//articles/2023/02/12/goodwife/',\n",
       " ' Финальные исполнения, которыми завершился жизненный цикл моделей': 'https://lenta.ru//news/2023/02/13/sud/',\n",
       " ' Какие исторические здания можно купить в Москве, и сколько они стоят': 'https://lenta.ru/extlink/2023/02/13/goodbyecars/',\n",
       " ' Какой была настоящая Фаина Раневская, и о чем сожалела великая актриса': 'https://lenta.ru/extlink/2023/02/11/istoricheskie_zdaniya_na_prodaju_v_moskve/',\n",
       " ' Видео: самый дорогой седан Южной Кореи — удалась ли новая атака на S-Класс?': 'https://lenta.ru/extlink/2023/02/10/faina_ranevskaya/',\n",
       " ' Татарка FM — о Ташкенте, Москве и битвах на лестничной площадке': 'https://lenta.ru/extlink/2023/02/11/2023-genesis-g90-video/',\n",
       " ' Рассказываем, как их приструнить': 'https://lenta.ru/extlink/2023/02/10/tatarka_fm/',\n",
       " ' Три истории, как русские едва не начали ядерную войну': 'https://lenta.ru/extlink/2023/02/07/musor/',\n",
       " ' Сколько в Москве памятников Пушкину и какова их судьба?': 'https://lenta.ru/extlink/2023/02/07/chut-ne-bakhnuli/',\n",
       " ' Чем запомнится пребывание на этом посту Зельфиры Трегуловой?': 'https://lenta.ru/extlink/2023/02/09/pamyatniki_pushkinu/',\n",
       " ' Самые странные акции, которые когда-либо видела Красная площадь': 'https://lenta.ru/extlink/2023/02/09/novyi_direktor_tretyakovki/',\n",
       " ' Доступные и маломощные кросс-купе из разных стран мира': 'https://lenta.ru/extlink/2023/02/07/proishestviya_na_krasnoy_ploshadi_v_moskve/',\n",
       " ' Врачи разнесли в пух и прах трендовые лайфхаки от блогеров': 'https://lenta.ru/extlink/2023/02/09/humblecross/',\n",
       " ' Как москвичи покупают жилье, и почему оно стоит так дорого': 'https://lenta.ru/extlink/2023/02/07/pobeg-iz-sssr/',\n",
       " ' Агентурные псевдонимы Москвичей, Волг, Запорожцев и УАЗов': 'https://lenta.ru/extlink/2023/02/07/ne-povtoryat/',\n",
       " ' Только главное и интересное': 'https://lenta.ru/extlink/2023/02/07/moskovskiy_rieltor/',\n",
       " ' Рассказывают косметологи': 'https://lenta.ru/extlink/2023/02/08/imya-na-eksport/',\n",
       " ' Почему роды по ОМС в России такие разные и на что точно может рассчитывать женщина': 'https://lenta.ru/extlink/2023/02/03/igor-strelkov-girkin/',\n",
       " ' Объяснила психолог': 'https://lenta.ru/extlink/2023/02/03/opasnye-procedury/',\n",
       " ' Какими хочет видеть фильмы о столице директор сети «Москино»': 'https://lenta.ru/extlink/2023/02/03/rody-po-oms/',\n",
       " 'В первом трейлере «Флэша» появились два Бэтмена': 'https://lenta.ru/extlink/2023/02/03/prinimat-sebya/',\n",
       " 'Ростовский областной суд вынес приговор по делу убийц из «банды амазонок»': 'https://lenta.ru/extlink/2023/02/06/director_moskino/',\n",
       " ' Армейский священник — о боях в Донбассе, отпущении грехов и смысле заповеди «Не убий»': 'https://lenta.ru//news/2023/02/13/iambatman/',\n",
       " 'Премьер Грузии заявил о стремлении страны вступить в ЕС и НАТО': 'https://lenta.ru//news/2023/02/13/rostovprigovor/',\n",
       " ' Эрдоган блокирует расширение НАТО и сотрудничает с Россией. Может ли он изменить свой курс?': 'https://lenta.ru//articles/2023/02/12/nestor_arhipov/',\n",
       " 'Посетители кафе избили российского полицейского и отсекли ему полпальца': 'https://lenta.ru//news/2023/02/13/gruziaa/',\n",
       " 'Виктория Боня осудила Джона Сину за выход в свет в мини-юбке и на каблуках': 'https://lenta.ru//articles/2023/02/10/interview_nato/',\n",
       " 'Макгрегор прокомментировал победу Махачева над Волкановски': 'https://lenta.ru//news/2023/02/13/nizhiyy/',\n",
       " 'В Крыму подожгли могилу участника СВО': 'https://lenta.ru//news/2023/02/13/senastili/',\n",
       " 'Бездомного задержали за проведение обряда с ножом у Вечного огня в Москве': 'https://lenta.ru//news/2023/02/13/conor/',\n",
       " ' как российские миллиардеры поженили детей в зале, где вручают премию «Оскар»?': 'https://lenta.ru//news/2023/02/13/podhhhz/',\n",
       " 'Стало известно о подготовке Японии и Китая к кулуарным переговорам': 'https://moslenta.ru/news/lyudi/bezdomnogo-zaderzhali-v-moskve-13-02-2023.htm/',\n",
       " ' Сможет ли человечество спасти любимый алкогольный напиток?': 'https://lenta.ru//articles/2023/02/11/osmanov_wedding/',\n",
       " 'Кадыров раскрыл подробности плана перегруппировки войск в ходе СВО': 'https://lenta.ru//news/2023/02/13/peregovory_jap_china/',\n",
       " 'Евросоюз откажется вводить санкции против «Росатома»': 'https://lenta.ru//articles/2023/02/11/pivo/',\n",
       " 'В Белоруссии пригрозили Польше российскими ракетами': 'https://lenta.ru//news/2023/02/13/plan/',\n",
       " 'Известная стендаперша объяснила нежелание переезжать в Москву': 'https://lenta.ru//news/2023/02/13/rosatom/',\n",
       " 'В Кремле отвергли обвинения в давлении Москвы на Дамаск': 'https://lenta.ru//news/2023/02/13/azarr/',\n",
       " 'Президент Молдавии заявила о планах России сменить власть в стране': 'https://lenta.ru//news/2023/02/13/krasn/',\n",
       " ' Режиссер «Красоты по-американски» и «1917» снял кино о любви в Британии времен Тэтчер. Что из этого вышло?': 'https://lenta.ru//news/2023/02/13/peskov_damascue/',\n",
       " 'Стал известен состав участников Мюнхенской конференции': 'https://lenta.ru//news/2023/02/13/sandustroi/',\n",
       " ' Какие проблемы грозят любителям совмещать занятия спортом и алкоголь?': 'https://lenta.ru//articles/2023/02/11/empireoflight/',\n",
       " 'Актер Ефремов отказался от ходатайства о смягчении наказания': 'https://lenta.ru//news/2023/02/13/munich/',\n",
       " 'Кадыров порассуждал о Папе Римском': 'https://lenta.ru//articles/2023/02/10/sportalko/',\n",
       " 'Кремль оставил без комментариев заявление о желании Порошенко отдать Донбасс': 'https://lenta.ru//news/2023/02/13/aktef/',\n",
       " ' Как известная порноактриса променяла многомиллионные гонорары на боксерские перчатки': 'https://lenta.ru//news/2023/02/13/papa/',\n",
       " 'В России начали переносить запуск зеленых электростанций': 'https://lenta.ru//news/2023/02/13/bez_kommentov/',\n",
       " 'Кадыров раскрыл детали попытки отравления Апти Алаудинова': 'https://lenta.ru//articles/2023/02/10/porn_boxing/',\n",
       " 'Российский хирург назвал самые популярные виды пластики лица в 2023 году': 'https://lenta.ru//news/2023/02/13/alaudinov/',\n",
       " 'Названа причина заморозки переговоров с Индией по производству Ка-226Т': 'https://lenta.ru//articles/2023/02/09/tanks/',\n",
       " 'Стало известно о планах Путина на 13 февраля': 'https://lenta.ru//news/2023/02/13/facialplasticsurgery/',\n",
       " 'Кадыров высказался о сроках выполнения задач СВО': 'https://lenta.ru//news/2023/02/13/ka226/',\n",
       " 'Кремль оценил призывы к американцам не посещать Россию': 'https://lenta.ru//news/2023/02/13/poslanie/',\n",
       " ' Сколько стоит отдых на Мальдивах и на что идут острова, чтобы завлечь туристов ': 'https://lenta.ru//news/2023/02/13/kadyrov_svo/',\n",
       " 'В Кремле заявили об уходе Украины со связи с Россией по команде сверху': 'https://lenta.ru//news/2023/02/13/ocenilll/',\n",
       " 'В окружении Костомарова оценили вероятность проведения фигуристу новых операций': 'https://lenta.ru//articles/2023/02/10/maldiviantravel/',\n",
       " 'Кремль ответил на вопрос об обеспечении безопасности Путина': 'https://lenta.ru//news/2023/02/13/ushli/',\n",
       " 'В Кремле ответили на вопрос о вероятности второй волны мобилизации': 'https://lenta.ru//news/2023/02/13/bezopasnost/',\n",
       " ' Миллиардеры и звезды страдают от СДВГ. Как они пришли к успеху, несмотря на ненависть окружающих?': 'https://lenta.ru//articles/2023/02/09/slavery/',\n",
       " 'Украинские военные нанесли удар по командному пункту батальона «Восток»': 'https://lenta.ru//news/2023/02/13/veroyat/',\n",
       " 'Кадыров рассказал о состоянии командира «Ахмата» после попытки отравления': 'https://lenta.ru//articles/2023/02/09/adhd/',\n",
       " 'Президент Молдавии назначила нового главу администрации': 'https://lenta.ru//news/2023/02/13/batvostok/',\n",
       " 'Кадыров заявил о готовности к мировой ядерной войне': 'https://lenta.ru//news/2023/02/13/donnn/',\n",
       " 'Россиянку заподозрили в убийстве мужа в больничной палате': 'https://lenta.ru//news/2023/02/13/admin/',\n",
       " ' Газопровод могли заминировать американские водолазы': 'https://lenta.ru//news/2023/02/13/war/',\n",
       " 'Россиянин захотел выпить в самолете, накричал матом на стюардесс и был задержан': 'https://lenta.ru//news/2023/02/13/meduchrezh/',\n",
       " ' Все обсуждают слитую в сеть драму о сталинском терроре «Капитан Волконогов бежал». Стоит ли она того?': 'https://lenta.ru//extlink/2023/02/08/usa_nord_stream/?intlnk=true',\n",
       " 'Кадыров заявил о бесполезности поставляемых на Украину танков': 'https://lenta.ru//news/2023/02/13/deboshhh/',\n",
       " 'США усилили контроль за воздушным пространством после случая с «китайским шаром»': 'https://lenta.ru//articles/2023/02/09/capwolfy/',\n",
       " 'Представлена гоночная версия детского электрокара Ferrari Testa Rossa': 'https://lenta.ru//news/2023/02/13/bespoleznost/',\n",
       " 'Британец превратил фургончик Volkswagen в 736-сильный спорткар': 'https://lenta.ru//news/2023/02/13/pentagon_balloon/',\n",
       " 'Раскрыты внешность и салон родстера MG с китайской техникой': 'https://motor.ru/news/little-car-company-jpg-13-02-2023.htm',\n",
       " 'Обновленный Mercedes-Benz eSprinter впечатлил автономностью': 'https://motor.ru/news/vw-caddy-rs-tuning-13-02-2023.htm',\n",
       " 'Кадыров высказался о наступлении на Киев': 'https://motor.ru/news/mb-esprinter-view-13-02-2023.htm',\n",
       " ' Почему этого годами не замечали и каких средств стоит опасаться?': 'https://lenta.ru//articles/2023/02/08/banda/'}"
      ]
     },
     "execution_count": 126,
     "metadata": {},
     "output_type": "execute_result"
    }
   ],
   "source": [
    "news_json"
   ]
  },
  {
   "cell_type": "markdown",
   "id": "5ac757be",
   "metadata": {},
   "source": [
    "### Спарсим самые актуальные новости за 24 часа"
   ]
  },
  {
   "cell_type": "code",
   "execution_count": 26,
   "id": "a704410a",
   "metadata": {
    "scrolled": true
   },
   "outputs": [
    {
     "data": {
      "text/plain": [
       "['Стало известно еще об одной казни бойца ЧВК «Вагнер» на Украине',\n",
       " 'В ЕС раскрыли подробности нового пакета антироссийских санкций',\n",
       " 'СВР узнала о планах США привлечь боевиков ИГ для терактов в России',\n",
       " 'В России произошло новое землетрясение',\n",
       " 'Кадыров заявил о попытке отравления командира «Ахмата»',\n",
       " 'МИД Украины пообещал «великие события» в годовщину начала спецоперации']"
      ]
     },
     "execution_count": 26,
     "metadata": {},
     "output_type": "execute_result"
    }
   ],
   "source": [
    "path3 = dom.xpath(\"//div[contains(@class, 'last24')]/a/div/span/text()\") \n",
    "path3"
   ]
  },
  {
   "cell_type": "code",
   "execution_count": 27,
   "id": "d7c17136",
   "metadata": {},
   "outputs": [
    {
     "data": {
      "text/plain": [
       "['/news/2023/02/13/chvk/',\n",
       " '/news/2023/02/13/sanctions/',\n",
       " '/news/2023/02/13/svrrrr/',\n",
       " '/news/2023/02/13/kurill/',\n",
       " '/news/2023/02/13/kadirov/',\n",
       " '/news/2023/02/13/great/']"
      ]
     },
     "execution_count": 27,
     "metadata": {},
     "output_type": "execute_result"
    }
   ],
   "source": [
    "path4 = dom.xpath(\"//div[contains(@class, 'last24')]/a/@href\")\n",
    "path4"
   ]
  },
  {
   "cell_type": "code",
   "execution_count": 174,
   "id": "f49520e2",
   "metadata": {
    "scrolled": true
   },
   "outputs": [
    {
     "ename": "IndentationError",
     "evalue": "unexpected indent (2683479844.py, line 7)",
     "output_type": "error",
     "traceback": [
      "\u001b[1;36m  File \u001b[1;32m\"C:\\Users\\user\\AppData\\Local\\Temp\\ipykernel_20308\\2683479844.py\"\u001b[1;36m, line \u001b[1;32m7\u001b[0m\n\u001b[1;33m    v_i+=1\u001b[0m\n\u001b[1;37m    ^\u001b[0m\n\u001b[1;31mIndentationError\u001b[0m\u001b[1;31m:\u001b[0m unexpected indent\n"
     ]
    }
   ],
   "source": [
    "lasts24 = {}\n",
    "for k in path3:\n",
    "    for  v_i,v in enumerate(path4):\n",
    "        print(v)\n",
    "        v_i=0\n",
    "    lasts24[k] = url+v[v_i]\n",
    "  \n",
    "lasts24"
   ]
  },
  {
   "cell_type": "code",
   "execution_count": 175,
   "id": "ab2598ee",
   "metadata": {},
   "outputs": [],
   "source": [
    "lasts24 = dict(zip(path3,path4))"
   ]
  },
  {
   "cell_type": "code",
   "execution_count": 178,
   "id": "2c65a8ab",
   "metadata": {},
   "outputs": [
    {
     "name": "stdout",
     "output_type": "stream",
     "text": [
      "https://lenta.ru//news/2023/02/13/chvk/\n",
      "https://lenta.ru//news/2023/02/13/sanctions/\n",
      "https://lenta.ru//news/2023/02/13/svrrrr/\n",
      "https://lenta.ru//news/2023/02/13/kurill/\n",
      "https://lenta.ru//news/2023/02/13/kadirov/\n",
      "https://lenta.ru//news/2023/02/13/great/\n"
     ]
    },
    {
     "data": {
      "text/plain": [
       "{'Стало известно еще об одной казни бойца ЧВК «Вагнер» на Украине': '/news/2023/02/13/chvk/',\n",
       " 'В ЕС раскрыли подробности нового пакета антироссийских санкций': '/news/2023/02/13/sanctions/',\n",
       " 'СВР узнала о планах США привлечь боевиков ИГ для терактов в России': '/news/2023/02/13/svrrrr/',\n",
       " 'В России произошло новое землетрясение': '/news/2023/02/13/kurill/',\n",
       " 'Кадыров заявил о попытке отравления командира «Ахмата»': '/news/2023/02/13/kadirov/',\n",
       " 'МИД Украины пообещал «великие события» в годовщину начала спецоперации': '/news/2023/02/13/great/'}"
      ]
     },
     "execution_count": 178,
     "metadata": {},
     "output_type": "execute_result"
    }
   ],
   "source": [
    "for v in lasts24.values():\n",
    "    v = url+v\n",
    "    print(v)\n",
    "lasts24"
   ]
  },
  {
   "cell_type": "code",
   "execution_count": 179,
   "id": "f4f454c2",
   "metadata": {},
   "outputs": [],
   "source": [
    "def news_for_24_hours():\n",
    "    from lxml import html\n",
    "    import requests\n",
    "    url = 'https://lenta.ru/'\n",
    "    headers = {\n",
    "    'User-Agent': \n",
    "    'Mozilla/5.0 (Windows NT 10.0; Win64; x64) AppleWebKit/537.36 (KHTML, like Gecko) Chrome/109.0.0.0 Safari/537.36'\n",
    "          }\n",
    "    response = requests.get(url, headers=headers)\n",
    "    path3 = dom.xpath(\"//div[contains(@class, 'last24')]/a/div/span/text()\") \n",
    "    path4 = dom.xpath(\"//div[contains(@class, 'last24')]/a/@href\")\n",
    "    if response.ok:\n",
    "        lasts24 = dict(zip(path3,path4))\n",
    "        return 'новости с ленты', lasts24\n",
    "    else:\n",
    "        return 'сайт не доступен'\n",
    "        "
   ]
  },
  {
   "cell_type": "code",
   "execution_count": 180,
   "id": "1cebc4c9",
   "metadata": {},
   "outputs": [
    {
     "data": {
      "text/plain": [
       "('новости с ленты',\n",
       " {'Стало известно еще об одной казни бойца ЧВК «Вагнер» на Украине': '/news/2023/02/13/chvk/',\n",
       "  'В ЕС раскрыли подробности нового пакета антироссийских санкций': '/news/2023/02/13/sanctions/',\n",
       "  'СВР узнала о планах США привлечь боевиков ИГ для терактов в России': '/news/2023/02/13/svrrrr/',\n",
       "  'В России произошло новое землетрясение': '/news/2023/02/13/kurill/',\n",
       "  'Кадыров заявил о попытке отравления командира «Ахмата»': '/news/2023/02/13/kadirov/',\n",
       "  'МИД Украины пообещал «великие события» в годовщину начала спецоперации': '/news/2023/02/13/great/'})"
      ]
     },
     "execution_count": 180,
     "metadata": {},
     "output_type": "execute_result"
    }
   ],
   "source": [
    "news_for_24_hours()"
   ]
  },
  {
   "cell_type": "code",
   "execution_count": 181,
   "id": "e744f3a2",
   "metadata": {},
   "outputs": [
    {
     "name": "stdout",
     "output_type": "stream",
     "text": [
      "Новости с лента ру\n",
      "Стало известно еще об одной казни бойца ЧВК «Вагнер» на Украине\n",
      "https://lenta.ru//news/2023/02/13/chvk/\n",
      "В ЕС раскрыли подробности нового пакета антироссийских санкций\n",
      "https://lenta.ru//news/2023/02/13/sanctions/\n",
      "СВР узнала о планах США привлечь боевиков ИГ для терактов в России\n",
      "https://lenta.ru//news/2023/02/13/svrrrr/\n",
      "В России произошло новое землетрясение\n",
      "https://lenta.ru//news/2023/02/13/kurill/\n",
      "Кадыров заявил о попытке отравления командира «Ахмата»\n",
      "https://lenta.ru//news/2023/02/13/kadirov/\n",
      "МИД Украины пообещал «великие события» в годовщину начала спецоперации\n",
      "https://lenta.ru//news/2023/02/13/great/\n"
     ]
    }
   ],
   "source": [
    "def news_for_24_hours_v2():\n",
    "    from lxml import html\n",
    "    import requests\n",
    "    url = 'https://lenta.ru/'\n",
    "    headers = {\n",
    "    'User-Agent': \n",
    "    'Mozilla/5.0 (Windows NT 10.0; Win64; x64) AppleWebKit/537.36 (KHTML, like Gecko) Chrome/109.0.0.0 Safari/537.36'\n",
    "          }\n",
    "    response = requests.get(url, headers=headers)\n",
    "    path3 = dom.xpath(\"//div[contains(@class, 'last24')]/a/div/span/text()\") \n",
    "    path4 = dom.xpath(\"//div[contains(@class, 'last24')]/a/@href\")\n",
    "    if response.ok:\n",
    "        lasts24 = dict(zip(path3,path4))\n",
    "        print('Новости с лента ру')\n",
    "        for k, v in lasts24.items():\n",
    "            print(k)\n",
    "            print(url+v)\n",
    "    else:\n",
    "        return 'сайт не доступен'\n",
    "    \n",
    "news_for_24_hours_v2()"
   ]
  },
  {
   "cell_type": "markdown",
   "id": "9d1b7804",
   "metadata": {},
   "source": [
    "пример исп пробитовых опрератов \n",
    "//div/a[contains(@class, \"card\")]|//div/a[contains(@class, \"card_mini\")]\n"
   ]
  }
 ],
 "metadata": {
  "kernelspec": {
   "display_name": "Python 3 (ipykernel)",
   "language": "python",
   "name": "python3"
  },
  "language_info": {
   "codemirror_mode": {
    "name": "ipython",
    "version": 3
   },
   "file_extension": ".py",
   "mimetype": "text/x-python",
   "name": "python",
   "nbconvert_exporter": "python",
   "pygments_lexer": "ipython3",
   "version": "3.9.13"
  }
 },
 "nbformat": 4,
 "nbformat_minor": 5
}
